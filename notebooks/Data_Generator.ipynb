{
 "cells": [
  {
   "cell_type": "code",
   "execution_count": 1,
   "id": "b13e61ca",
   "metadata": {},
   "outputs": [],
   "source": [
    "import pandas as pd\n",
    "import numpy as np\n",
    "from tqdm import tqdm"
   ]
  },
  {
   "cell_type": "code",
   "execution_count": 3,
   "id": "3d99bf7a",
   "metadata": {},
   "outputs": [],
   "source": [
    "data = pd.read_csv(\"../data/raw/AVF3_RL_Adi_T2DM_HBA1C_V220220928034233_TimeSeries.csv\")"
   ]
  },
  {
   "cell_type": "code",
   "execution_count": null,
   "id": "39b6e0b3",
   "metadata": {},
   "outputs": [],
   "source": []
  },
  {
   "cell_type": "code",
   "execution_count": 4,
   "id": "c7476445",
   "metadata": {},
   "outputs": [
    {
     "data": {
      "text/plain": [
       "Index(['PRACTICE_PATIENT_ID', 'YEAR_START', 'YEAR_END', 'STATUS', 'SEX',\n",
       "       'ETHNICITY', 'INTERVAL_OF_FOLLOWUP', 'DATE_OF_BIRTH', 'DEATH_DATE',\n",
       "       'INDEX_DATE', 'EXIT_DATE', 'AGE', 'INSULIN_GOLD_OPTIMAL',\n",
       "       'THIAZOLIDINEDIONE_GOLD_OPTIMAL', 'SULPHONYLUREAS_GOLD_OPTIMAL',\n",
       "       'MEGLITINIDES_GOLD_OPTIMAL', 'METFORMIN_GOLD_OPTIMAL',\n",
       "       'DPP4INHIBITORS_GOLD_OPTIMAL', 'DPP4INHIBITORS_OPTIMAL',\n",
       "       'GLP1_GOLD_OPTIMAL', 'ACARBOSE_GOLD_OPTIMAL',\n",
       "       'SGLT2INHIBITORS_GOLD_OPTIMAL', 'SGLT2INHIBITORS_OPTIMAL',\n",
       "       'SYSTOLIC_BLOOD_PRESSURE', 'BMI', 'HIGH_DENSITY_LIPOPROTEIN',\n",
       "       'LOW_DENSITY_LIPOPROTEIN', 'SERUM_CHOLESTEROL',\n",
       "       'HBA1C_-_DIABETIC_CONTROL', 'TRIGLYCERIDES', 'SERUM_CREATININE'],\n",
       "      dtype='object')"
      ]
     },
     "execution_count": 4,
     "metadata": {},
     "output_type": "execute_result"
    }
   ],
   "source": [
    "data.columns"
   ]
  },
  {
   "cell_type": "code",
   "execution_count": null,
   "id": "c40a748f",
   "metadata": {},
   "outputs": [],
   "source": [
    "data = data[data['AGE'].between(35, 80, inclusive='both')]"
   ]
  },
  {
   "cell_type": "code",
   "execution_count": null,
   "id": "47b75e5a",
   "metadata": {},
   "outputs": [],
   "source": [
    "demographic_features = ['PRACTICE_PATIENT_ID', 'SEX', 'AGE', 'BASESMOKER', 'STATUS']\n",
    "interest_feature_list = ['EGFR', 'SYSTOLIC_BP', 'DIASTOLIC_BP', 'HBA1C', \n",
    "                         'SERUM_CHOLESTEROL', 'HDL', 'LDL', 'TRIGLYCERIDES', 'BMI']\n",
    "treatment_list = ['METFORMIN', 'SULPHO', 'GLINIDES', 'GLITAZONE', 'DPP4I', 'GLP1', 'SGLT2', 'INSULIN', 'ACARBOSE']\n",
    "baseline_features = ['B_ACR', 'B_TRIGLYCERIDES', 'B_SERUM_CHOL', 'B_HDL', 'B_LDL', 'B_DIA', 'B_SYS', \n",
    "                     'B_BMI', 'B_HBA1C']\n",
    "baseline_feature_map = {\n",
    "    'B_ACR': 'ALBUMIN_CREATININE_RATIO', \n",
    "    'B_TRIGLYCERIDES': 'TRIGLYCERIDES', \n",
    "    'B_SERUM_CHOL': 'SERUM_CHOLESTEROL', \n",
    "    'B_HDL': 'HDL', \n",
    "    'B_LDL': 'LDL', \n",
    "    'B_DIA': 'DIASTOLIC_BP', \n",
    "    'B_SYS': 'SYSTOLIC_BP', \n",
    "    'B_BMI': 'BMI', \n",
    "    'B_HBA1C': 'HBA1C'\n",
    "}\n",
    "\n",
    "extra_features = ['ACTION', 'REWARD_BP', 'REWARD_A1C', 'REWARD']\n",
    "\n",
    "all_features = demographic_features+interest_feature_list+treatment_list"
   ]
  },
  {
   "cell_type": "code",
   "execution_count": null,
   "id": "d57b2d5e",
   "metadata": {},
   "outputs": [],
   "source": [
    "data = data[all_features]"
   ]
  },
  {
   "cell_type": "code",
   "execution_count": null,
   "id": "51597f49",
   "metadata": {},
   "outputs": [],
   "source": [
    "freq_data = data.groupby(['PRACTICE_PATIENT_ID']).count()\n",
    "pat_to_drop = freq_data[freq_data['SEX'] < 5].index.values\n",
    "data = data.drop(data[data.PRACTICE_PATIENT_ID.isin(pat_to_drop)].index)"
   ]
  },
  {
   "cell_type": "code",
   "execution_count": null,
   "id": "fd754ba5",
   "metadata": {},
   "outputs": [],
   "source": [
    "len(data['PRACTICE_PATIENT_ID'].unique())"
   ]
  },
  {
   "cell_type": "code",
   "execution_count": null,
   "id": "f745e0f5",
   "metadata": {},
   "outputs": [],
   "source": [
    "for ftr in interest_feature_list:\n",
    "    data[ftr] = data.groupby('PRACTICE_PATIENT_ID')[ftr].transform(lambda v: v.ffill())\n",
    "    data[ftr] = data.groupby('PRACTICE_PATIENT_ID')[ftr].transform(lambda v: v.bfill())"
   ]
  },
  {
   "cell_type": "code",
   "execution_count": null,
   "id": "2de8cb41",
   "metadata": {},
   "outputs": [],
   "source": [
    "for ftr in interest_feature_list:\n",
    "    print(ftr, (data[ftr].isna().sum() / len(data[ftr])) * 100 )"
   ]
  },
  {
   "cell_type": "code",
   "execution_count": null,
   "id": "888179f2",
   "metadata": {},
   "outputs": [],
   "source": [
    "def find_notnull(data):\n",
    "    \"\"\" Finds the indices of all missing values.\n",
    "    Parameters\n",
    "    ----------\n",
    "    data: numpy.ndarray\n",
    "        Data to impute.\n",
    "    Returns\n",
    "    -------\n",
    "    List of tuples\n",
    "        Indices of all missing values in tuple format; (i, j)\n",
    "    \"\"\"\n",
    "    null_xy = np.argwhere(~np.isnan(data))\n",
    "    return null_xy\n",
    "\n",
    "\n",
    "invalid_id = []\n",
    "\n",
    "for patient, d in tqdm(data.groupby(['PRACTICE_PATIENT_ID'])):\n",
    "    total_num_visits = d.shape[0]\n",
    "    if sum(d[treatment_list].iloc[0].values) == 0:\n",
    "        invalid_id.append(patient)\n",
    "    for ftr in interest_feature_list:\n",
    "        notnan_data_indices = find_notnull(d[ftr].values)\n",
    "        if len(notnan_data_indices) == 0 or len(notnan_data_indices) < (total_num_visits/2):\n",
    "            invalid_id.append(patient)\n",
    "            "
   ]
  },
  {
   "cell_type": "code",
   "execution_count": null,
   "id": "3516a5ce",
   "metadata": {},
   "outputs": [],
   "source": [
    "data = data.drop(data[data.PRACTICE_PATIENT_ID.isin(invalid_id)].index)"
   ]
  },
  {
   "cell_type": "code",
   "execution_count": null,
   "id": "c77c853f",
   "metadata": {
    "scrolled": true
   },
   "outputs": [],
   "source": [
    "for ftr in interest_feature_list:\n",
    "    print(ftr, (data[ftr].isna().sum() / len(data[ftr])) * 100 )"
   ]
  },
  {
   "cell_type": "code",
   "execution_count": null,
   "id": "5e69f3fd",
   "metadata": {},
   "outputs": [],
   "source": [
    "def foo(group):\n",
    "    for i in range(1,len(group)):\n",
    "        if sum(group.loc[group.index[i], treatment_list].values) == 0:\n",
    "            group.iloc[i,group.columns.get_loc('METFORMIN')]= group.iloc[i-1,group.columns.get_loc('METFORMIN')]\n",
    "            group.iloc[i,group.columns.get_loc('SULPHO')]= group.iloc[i-1,group.columns.get_loc('SULPHO')]\n",
    "            group.iloc[i,group.columns.get_loc('GLINIDES')]= group.iloc[i-1,group.columns.get_loc('GLINIDES')]\n",
    "            group.iloc[i,group.columns.get_loc('GLITAZONE')]= group.iloc[i-1,group.columns.get_loc('GLITAZONE')]\n",
    "            group.iloc[i,group.columns.get_loc('DPP4I')]= group.iloc[i-1,group.columns.get_loc('DPP4I')]\n",
    "            group.iloc[i,group.columns.get_loc('GLP1')]= group.iloc[i-1,group.columns.get_loc('GLP1')]\n",
    "            group.iloc[i,group.columns.get_loc('SGLT2')]= group.iloc[i-1,group.columns.get_loc('SGLT2')]\n",
    "            group.iloc[i,group.columns.get_loc('INSULIN')]= group.iloc[i-1,group.columns.get_loc('INSULIN')]\n",
    "            group.iloc[i,group.columns.get_loc('ACARBOSE')]= group.iloc[i-1,group.columns.get_loc('ACARBOSE')]\n",
    "            group.iloc[i,group.columns.get_loc('STATIN')]= group.iloc[i-1,group.columns.get_loc('STATIN')]\n",
    "    return group\n",
    "data = data.groupby('PRACTICE_PATIENT_ID').apply(foo)"
   ]
  },
  {
   "cell_type": "code",
   "execution_count": null,
   "id": "d7af2c9b",
   "metadata": {},
   "outputs": [],
   "source": [
    "def get_action(row):\n",
    "    index_l = np.where(row == 1)\n",
    "    combi_drugs = \"\"\n",
    "    for idx in index_l[0]:\n",
    "        combi_drugs += treatment_list[idx] + \"+\"\n",
    "    if combi_drugs == \"\":\n",
    "        return \"DO_NOTHING\"\n",
    "    else:\n",
    "        return combi_drugs[:-1]\n",
    "\n",
    "\n",
    "data['ACTION_DESC'] = data.apply(lambda row: get_action(row[treatment_list]), axis=1)"
   ]
  },
  {
   "cell_type": "code",
   "execution_count": null,
   "id": "9929f543",
   "metadata": {},
   "outputs": [],
   "source": [
    "data['N_DRUGS'] = data[treatment_list].apply(lambda x: np.sum(x.values), axis=1)"
   ]
  },
  {
   "cell_type": "code",
   "execution_count": null,
   "id": "d22aa4ef",
   "metadata": {},
   "outputs": [],
   "source": [
    "data['ACTION'] = pd.factorize(data['ACTION_DESC'])[0]"
   ]
  },
  {
   "cell_type": "code",
   "execution_count": null,
   "id": "be3b2ebb",
   "metadata": {},
   "outputs": [],
   "source": [
    "data['ACTION'] = data['ACTION'] + 1"
   ]
  },
  {
   "cell_type": "code",
   "execution_count": null,
   "id": "846bb45a",
   "metadata": {},
   "outputs": [],
   "source": [
    "data.head(20)"
   ]
  },
  {
   "cell_type": "code",
   "execution_count": null,
   "id": "d61d77b4",
   "metadata": {},
   "outputs": [],
   "source": [
    "for ftr in interest_feature_list:\n",
    "    data[ftr] = data.groupby('PRACTICE_PATIENT_ID')[ftr].transform(lambda v: v.ffill())\n",
    "    data[ftr] = data.groupby('PRACTICE_PATIENT_ID')[ftr].transform(lambda v: v.bfill())"
   ]
  },
  {
   "cell_type": "code",
   "execution_count": null,
   "id": "0221d1c0",
   "metadata": {},
   "outputs": [],
   "source": [
    "data[\"MEDICATION\"] = data.groupby('PRACTICE_PATIENT_ID').ACTION.shift(1,fill_value=0)"
   ]
  },
  {
   "cell_type": "code",
   "execution_count": null,
   "id": "083e40d8",
   "metadata": {},
   "outputs": [],
   "source": [
    "for ftr in interest_feature_list:\n",
    "    print(ftr, (data[ftr].isna().sum() / len(data[ftr])) * 100 )"
   ]
  },
  {
   "cell_type": "code",
   "execution_count": null,
   "id": "a15b8f24",
   "metadata": {},
   "outputs": [],
   "source": [
    "data.describe()"
   ]
  },
  {
   "cell_type": "code",
   "execution_count": null,
   "id": "5a57e467",
   "metadata": {},
   "outputs": [],
   "source": [
    "# Standardise ranges\n",
    "data[\"EGFR\"] = data.EGFR.clip(0.0, 90.0)\n",
    "data[\"SYSTOLIC_BP\"] = data.SYSTOLIC_BP.clip(0.0, 240.0)\n",
    "data[\"DIASTOLIC_BP\"] = data.DIASTOLIC_BP.clip(0.0, 160.0)\n",
    "data[\"HBA1C\"] = data.HBA1C.clip(0.0, 300.0)\n",
    "data[\"SERUM_CHOLESTEROL\"] = data.SERUM_CHOLESTEROL.clip(0.0, 20.0)\n",
    "data[\"HDL\"] = data.HDL.clip(0.0, 30.0)\n",
    "data[\"LDL\"] = data.LDL.clip(0.0, 30.0)\n",
    "data[\"TRIGLYCERIDES\"] = data.TRIGLYCERIDES.clip(0.0, 50.0)\n",
    "data[\"BMI\"] = data.BMI.clip(0.0, 120.0)"
   ]
  },
  {
   "cell_type": "code",
   "execution_count": null,
   "id": "8937c562",
   "metadata": {},
   "outputs": [],
   "source": [
    "def improvement(x, lower):\n",
    "    x = x.values\n",
    "    if x[0] <= lower and x[1] <= lower:\n",
    "        return(0.0)\n",
    "    else:\n",
    "        return(x[0] - x[1] - 0.01)\n",
    "\n",
    "def bmi_improvement(x):\n",
    "    x = x.values\n",
    "    if 18.5 <= x[0] <= 24.9 and 18.5 <= x[1] <= 24.9:\n",
    "        return (0.0)\n",
    "    if x[0] < 18.5  or x[1] < 18.5:\n",
    "        return (x[1] - x[0] - 0.01)\n",
    "    else:\n",
    "        return(x[0] - x[1] - 0.01)"
   ]
  },
  {
   "cell_type": "code",
   "execution_count": null,
   "id": "6b320028",
   "metadata": {},
   "outputs": [],
   "source": []
  },
  {
   "cell_type": "code",
   "execution_count": null,
   "id": "e5f75442",
   "metadata": {},
   "outputs": [],
   "source": [
    "f_s = lambda x: x.rolling(2).apply(lambda x: improvement(x, 120)).shift(-1,fill_value=0) # last visit has 0 rewards\n",
    "f_a1c = lambda x: x.rolling(2).apply(lambda x: improvement(x, 42)).shift(-1,fill_value=0) # last visit has 0 rewards \n",
    "f_bmi = lambda x: x.rolling(2).apply(lambda x: bmi_improvement(x)).shift(-1,fill_value=0) # last visit has 0 rewards\n",
    "\n",
    "#data['REWARD_BP'] = data.groupby('PRACTICE_PATIENT_ID').SYSTOLIC_BP.apply(f_s)\n",
    "#data['REWARD_A1C'] = data.groupby('PRACTICE_PATIENT_ID').HBA1C.apply(f_a1c)\n",
    "data_sys = data.groupby('PRACTICE_PATIENT_ID').SYSTOLIC_BP.apply(f_s)\n",
    "data_a1c = data.groupby('PRACTICE_PATIENT_ID').HBA1C.apply(f_a1c)\n",
    "data_bmi = data.groupby('PRACTICE_PATIENT_ID').BMI.apply(f_bmi)\n",
    "data_n_drugs = data.STATUS.apply(lambda x: -x)"
   ]
  },
  {
   "cell_type": "code",
   "execution_count": null,
   "id": "fea97d39",
   "metadata": {},
   "outputs": [],
   "source": [
    "data_a1c_scaled = (2*((data_a1c-min(data_a1c))/(max(data_a1c)-min(data_a1c))))-1\n",
    "data_sys_scaled = (2*((data_sys-min(data_sys))/(max(data_sys)-min(data_sys))))-1\n",
    "data_bmi_scaled = (2*((data_bmi-min(data_bmi))/(max(data_bmi)-min(data_bmi))))-1"
   ]
  },
  {
   "cell_type": "code",
   "execution_count": null,
   "id": "0b88c5ae",
   "metadata": {},
   "outputs": [],
   "source": [
    "print(\"a1c: \", min(data_a1c_scaled), max(data_a1c_scaled))\n",
    "print(\"sys: \", min(data_sys_scaled), max(data_sys_scaled))\n",
    "print(\"bmi: \", min(data_bmi_scaled), max(data_bmi_scaled))\n",
    "print(\"drugs: \", min(data_n_drugs), max(data_n_drugs))"
   ]
  },
  {
   "cell_type": "code",
   "execution_count": null,
   "id": "5140493d",
   "metadata": {},
   "outputs": [],
   "source": [
    "data['REWARD_BP'] = data_sys_scaled\n",
    "data['REWARD_A1C'] = data_a1c_scaled\n",
    "data['REWARD_BMI'] = data_bmi_scaled\n",
    "data['REWARD_CVD'] = data_n_drugs\n",
    "data['REWARD'] = data_sys_scaled + data_a1c_scaled + data_bmi_scaled"
   ]
  },
  {
   "cell_type": "code",
   "execution_count": null,
   "id": "0501816f",
   "metadata": {},
   "outputs": [],
   "source": [
    "print(min(data['REWARD']), max(data['REWARD']))"
   ]
  },
  {
   "cell_type": "code",
   "execution_count": null,
   "id": "933e799b",
   "metadata": {},
   "outputs": [],
   "source": [
    "def normalise(df):\n",
    "    result = df.copy()\n",
    "    features = interest_feature_list + ['AGE']\n",
    "    for feature_name in features:\n",
    "        max_value = df[feature_name].max()\n",
    "        min_value = df[feature_name].min()\n",
    "        print(feature_name, max_value, min_value)\n",
    "        result[feature_name] = (df[feature_name] - min_value) / (max_value - min_value)\n",
    "    return result"
   ]
  },
  {
   "cell_type": "code",
   "execution_count": null,
   "id": "2cddbb54",
   "metadata": {},
   "outputs": [],
   "source": [
    "#(Xi - Xmin)/(Xmax-Xmin)"
   ]
  },
  {
   "cell_type": "code",
   "execution_count": null,
   "id": "f6a06531",
   "metadata": {},
   "outputs": [],
   "source": [
    "scaled_dataframe = normalise(data)\n",
    "#EGFR 90.0 3.97\n",
    "#SYSTOLIC_BP 240.0 60.0\n",
    "#DIASTOLIC_BP 144.0 20.0\n",
    "#HBA1C 300.0 0.0\n",
    "#SERUM_CHOLESTEROL 17.55 0.97\n",
    "#HDL 24.0 0.2\n",
    "#LDL 15.8 0.2\n",
    "#TRIGLYCERIDES 50.0 0.1\n",
    "#BMI 79.8 12.0\n",
    "#AGE 80.0 35.0"
   ]
  },
  {
   "cell_type": "code",
   "execution_count": null,
   "id": "3d7dee8b",
   "metadata": {},
   "outputs": [],
   "source": [
    "scaled_dataframe['SEX'] = pd.factorize(scaled_dataframe['SEX'])[0]\n",
    "# M = 0, F = 1"
   ]
  },
  {
   "cell_type": "code",
   "execution_count": null,
   "id": "749a1181",
   "metadata": {},
   "outputs": [],
   "source": [
    "scaled_dataframe"
   ]
  },
  {
   "cell_type": "code",
   "execution_count": null,
   "id": "a707a49e",
   "metadata": {},
   "outputs": [],
   "source": [
    "def discount_cumsum(x, gamma):\n",
    "    disc_cumsum = np.zeros_like(x)\n",
    "    disc_cumsum[-1] = x[-1]\n",
    "    for t in reversed(range(x.shape[0]-1)):\n",
    "        disc_cumsum[t] = x[t] + gamma * disc_cumsum[t+1]\n",
    "    return disc_cumsum\n"
   ]
  },
  {
   "cell_type": "code",
   "execution_count": null,
   "id": "fd8fc3f4",
   "metadata": {},
   "outputs": [],
   "source": [
    "scaled_dataframe['REWARDS_TO_GOAL'] = scaled_dataframe['REWARD'].values\n",
    "def rtg(group):\n",
    "    rewards = group['REWARD'].values\n",
    "    discounted_rewards = discount_cumsum(rewards, 1.0)\n",
    "    for i in range(0,len(group)):\n",
    "        group.iloc[i,group.columns.get_loc('REWARDS_TO_GOAL')]= discounted_rewards[i]\n",
    "    return group\n",
    "scaled_dataframe = scaled_dataframe.groupby('PRACTICE_PATIENT_ID').apply(rtg)"
   ]
  },
  {
   "cell_type": "code",
   "execution_count": null,
   "id": "fc6cf4a8",
   "metadata": {},
   "outputs": [],
   "source": [
    "scaled_dataframe['REWARDS_TO_GOAL'] = (2*((scaled_dataframe['REWARDS_TO_GOAL'].values-min(scaled_dataframe['REWARDS_TO_GOAL'].values))/(max(scaled_dataframe['REWARDS_TO_GOAL'].values)-min(scaled_dataframe['REWARDS_TO_GOAL'].values))))-1"
   ]
  },
  {
   "cell_type": "code",
   "execution_count": null,
   "id": "0097fdff",
   "metadata": {},
   "outputs": [],
   "source": [
    "print(min(scaled_dataframe['REWARDS_TO_GOAL']), max(scaled_dataframe['REWARDS_TO_GOAL']))"
   ]
  },
  {
   "cell_type": "code",
   "execution_count": null,
   "id": "cbf117d0",
   "metadata": {},
   "outputs": [],
   "source": [
    "scaled_dataframe.to_csv(\"../../data/processed.csv\", index=False)"
   ]
  },
  {
   "cell_type": "code",
   "execution_count": null,
   "id": "116138ba",
   "metadata": {},
   "outputs": [],
   "source": [
    "len(scaled_dataframe['PRACTICE_PATIENT_ID'].unique())"
   ]
  },
  {
   "cell_type": "code",
   "execution_count": null,
   "id": "185f4f59",
   "metadata": {},
   "outputs": [],
   "source": [
    "ids = scaled_dataframe['PRACTICE_PATIENT_ID'].unique()"
   ]
  },
  {
   "cell_type": "code",
   "execution_count": null,
   "id": "f46be664",
   "metadata": {},
   "outputs": [],
   "source": [
    "np.random.shuffle(ids)\n",
    "training, test = ids[:55535], ids[55535:]"
   ]
  },
  {
   "cell_type": "code",
   "execution_count": null,
   "id": "f5134fef",
   "metadata": {},
   "outputs": [],
   "source": [
    "np.max(scaled_dataframe['ACTION'])"
   ]
  },
  {
   "cell_type": "code",
   "execution_count": null,
   "id": "65303b5e",
   "metadata": {},
   "outputs": [],
   "source": [
    "train_df = scaled_dataframe[scaled_dataframe['PRACTICE_PATIENT_ID'].isin(training)]\n",
    "test_df = scaled_dataframe[scaled_dataframe['PRACTICE_PATIENT_ID'].isin(test)]"
   ]
  },
  {
   "cell_type": "code",
   "execution_count": null,
   "id": "e48fbc24",
   "metadata": {},
   "outputs": [],
   "source": [
    "train_df.to_csv(\"../../data/train.csv\", index=False)\n",
    "test_df.to_csv(\"../../data/test.csv\", index=False)"
   ]
  },
  {
   "cell_type": "code",
   "execution_count": null,
   "id": "0ef0fdfe",
   "metadata": {},
   "outputs": [],
   "source": [
    "data = pd.read_csv(\"../data/processed.csv\")"
   ]
  },
  {
   "cell_type": "code",
   "execution_count": null,
   "id": "e0e2dde6",
   "metadata": {},
   "outputs": [],
   "source": [
    "min(data['ACTION'].values)"
   ]
  },
  {
   "cell_type": "code",
   "execution_count": null,
   "id": "0175e189",
   "metadata": {},
   "outputs": [],
   "source": [
    "max(data['ACTION'].values)"
   ]
  },
  {
   "cell_type": "code",
   "execution_count": null,
   "id": "1fc2ffbb",
   "metadata": {},
   "outputs": [],
   "source": [
    "desc = data['ACTION_DESC'].unique()"
   ]
  },
  {
   "cell_type": "code",
   "execution_count": null,
   "id": "11f7521f",
   "metadata": {},
   "outputs": [],
   "source": [
    "desc"
   ]
  },
  {
   "cell_type": "code",
   "execution_count": null,
   "id": "c76a9a82",
   "metadata": {},
   "outputs": [],
   "source": [
    "act = data['ACTION'].unique()\n",
    "sorted(act)"
   ]
  },
  {
   "cell_type": "code",
   "execution_count": null,
   "id": "963c004b",
   "metadata": {},
   "outputs": [],
   "source": [
    "len(data[data['ACTION'].isin([0, 6])])/len(data)"
   ]
  },
  {
   "cell_type": "code",
   "execution_count": null,
   "id": "496b3429",
   "metadata": {},
   "outputs": [],
   "source": [
    "len(desc)"
   ]
  },
  {
   "cell_type": "code",
   "execution_count": null,
   "id": "10e19bf1",
   "metadata": {},
   "outputs": [],
   "source": [
    "for i in range(244):\n",
    "    d = data[data['ACTION'] == i]['ACTION_DESC'].values\n",
    "    if len(d) > 0:\n",
    "        print(d[0])\n",
    "    else:\n",
    "        print(d, i)\n",
    "        "
   ]
  },
  {
   "cell_type": "code",
   "execution_count": null,
   "id": "d2a91ee4",
   "metadata": {},
   "outputs": [],
   "source": []
  }
 ],
 "metadata": {
  "kernelspec": {
   "display_name": "Python 3 (ipykernel)",
   "language": "python",
   "name": "python3"
  },
  "language_info": {
   "codemirror_mode": {
    "name": "ipython",
    "version": 3
   },
   "file_extension": ".py",
   "mimetype": "text/x-python",
   "name": "python",
   "nbconvert_exporter": "python",
   "pygments_lexer": "ipython3",
   "version": "3.9.12"
  }
 },
 "nbformat": 4,
 "nbformat_minor": 5
}
