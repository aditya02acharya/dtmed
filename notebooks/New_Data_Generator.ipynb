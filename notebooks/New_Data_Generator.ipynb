{
 "cells": [
  {
   "cell_type": "code",
   "execution_count": 1,
   "id": "43e366a8",
   "metadata": {},
   "outputs": [],
   "source": [
    "import math\n",
    "import pandas as pd\n",
    "import numpy as np\n",
    "from tqdm import tqdm\n",
    "from scipy.stats import ks_2samp\n",
    "from datetime import datetime\n",
    "from dateutil.relativedelta import relativedelta"
   ]
  },
  {
   "cell_type": "code",
   "execution_count": 2,
   "id": "edefed79",
   "metadata": {},
   "outputs": [],
   "source": [
    "demographic_features = ['PRACTICE_PATIENT_ID', 'SEX', 'AGE']\n",
    "interest_feature_list = ['EGFR', 'SYSTOLIC_BLOOD_PRESSURE', 'HBA1C_-_DIABETIC_CONTROL', \n",
    "                         'SERUM_CHOLESTEROL', 'HIGH_DENSITY_LIPOPROTEIN', 'LOW_DENSITY_LIPOPROTEIN', \n",
    "                         'TRIGLYCERIDES', 'BMI']\n",
    "treatment_list = ['INSULIN_GOLD_OPTIMAL', 'THIAZOLIDINEDIONE_GOLD_OPTIMAL', \n",
    "                  'SULPHONYLUREAS_GOLD_OPTIMAL', 'MEGLITINIDES_GOLD_OPTIMAL', \n",
    "                  'METFORMIN_GOLD_OPTIMAL', 'GLP1_GOLD_OPTIMAL', 'ACARBOSE_GOLD_OPTIMAL', 'DPP4I', 'SGLT2']\n",
    "\n",
    "extra_features = ['ACTION', 'REWARD_BP', 'REWARD_A1C', 'REWARD']\n",
    "\n",
    "all_features = demographic_features+interest_feature_list+treatment_list"
   ]
  },
  {
   "cell_type": "code",
   "execution_count": 3,
   "id": "5be4f4c4",
   "metadata": {},
   "outputs": [],
   "source": [
    "def get_patient_id(exclude_cvd: bool = True, exclude_ckd: bool = False):\n",
    "    data = pd.read_csv(\"../data/raw/RL_Adi_T2DM_HBA1C_V220220505100211.csv\")\n",
    "    patients = None\n",
    "    if exclude_cvd:\n",
    "        patients = data[data[\"B.M.ALLCVD:1\"] == 0][\"PRACTICE_PATIENT_ID\"].unique()\n",
    "        \n",
    "    return patients\n",
    "    \n",
    "patient_ids = get_patient_id()    "
   ]
  },
  {
   "cell_type": "code",
   "execution_count": null,
   "id": "7f9a82bb",
   "metadata": {},
   "outputs": [],
   "source": [
    "def transform_data(value):\n",
    "    if value > 0 and value < 250.0:\n",
    "        value = math.floor(value*10)/10\n",
    "        if value < 22:\n",
    "            hbalc = 10.929 * (value - 2.15)\n",
    "            return round(hbalc, 2)\n",
    "        else:\n",
    "            return value\n",
    "    else:\n",
    "        return np.clip(value, 0.0, 250.0)\n",
    "\n",
    "    \n",
    "def generate_formatted_hbalc(unit: str = \"mmol/mol\"):\n",
    "    data = pd.read_csv(\"../data/AVF2_RL_Adi_T2DM_HBA1C_V220220505102401_HbA1c_-_diabetic_control_2.csv\")\n",
    "    data = data[data['Value'].notna()]\n",
    "    data['Value'] = data['Value'].apply(transform_data)\n",
    "    new_df = data.groupby([\"PRACTICE_PATIENT_ID\", \"EVENT_DATE)\"])[['Value']].mean().reset_index()\n",
    "    new_df.columns = ['PRACTICE_PATIENT_ID', \"EVENT_DATE\", 'HBA1C_VALUE']\n",
    "    return new_df\n",
    "transformed_hba1c = generate_formatted_hbalc()"
   ]
  },
  {
   "cell_type": "code",
   "execution_count": null,
   "id": "b882dbcb",
   "metadata": {},
   "outputs": [],
   "source": [
    "def insert_agg_value(a1c_agg, creatinine_agg, df, visit_idx):\n",
    "    if len(a1c_agg) == 0:\n",
    "        df.iloc[visit_idx, df.columns.get_loc(\"HBA1C_-_DIABETIC_CONTROL\")] = None\n",
    "    else:\n",
    "        df.iloc[visit_idx, df.columns.get_loc(\"HBA1C_-_DIABETIC_CONTROL\")] = np.mean(a1c_agg)\n",
    "    \n",
    "    if len(creatinine_agg) == 0:\n",
    "        df.iloc[visit_idx, df.columns.get_loc(\"SERUM_CREATININE\")] = None\n",
    "    else:\n",
    "        df.iloc[visit_idx, df.columns.get_loc(\"SERUM_CREATININE\")] = np.mean(creatinine_agg)\n",
    "\n",
    "def merge_hba1c_serem(df_a1c, pat_id):\n",
    "    ts_df = pd.read_csv(\"../data/AVF1_RL_Adi_T2DM_HBA1C_V220220505102355_TimeSeries.csv\")\n",
    "    df_creatinine = pd.read_csv(\"../data/AVF2_RL_Adi_T2DM_HBA1C_V220220505102401_Serum_creatinine_3.csv\")\n",
    "    ts_df = ts_df[ts_df['PRACTICE_PATIENT_ID'].isin(pat_id)]\n",
    "    \n",
    "    # change event date data type.\n",
    "    df_creatinine['EVENT_DATE'] = df_creatinine['EVENT_DATE'].apply(lambda x: datetime.strptime(x, \"%d/%m/%Y\") )\n",
    "    df_a1c['EVENT_DATE'] = df_a1c['EVENT_DATE'].apply(lambda x: datetime.strptime(x, \"%Y-%m-%d\") )\n",
    "    \n",
    "    for patient, d in tqdm(ts_df.groupby(['PRACTICE_PATIENT_ID'])):\n",
    "        total_num_visits = d.shape[0]\n",
    "        date_start_threshold = None\n",
    "        alc_data = df_a1c[df_a1c[\"PRACTICE_PATIENT_ID\"].isin([patient])]\n",
    "        creat_data = df_creatinine[df_creatinine[\"PRACTICE_PATIENT_ID\"].isin([patient])]\n",
    "        for visit_idx in range(d.shape[0]):\n",
    "            if visit_idx == 0:\n",
    "                date_start_threshold = datetime.strptime(d.iloc[visit_idx, d.columns.get_loc(\"INDEX_DATE\")], \"%Y-%m-%d\") \n",
    "                date_end_threshold = date_start_threshold + relativedelta(months=2)\n",
    "                a1c_agg = alc_data[alc_data[\"EVENT_DATE\"] <= date_end_threshold][\"HBA1C_VALUE\"].values\n",
    "                creatinine_agg = creat_data[creat_data[\"EVENT_DATE\"] <= date_end_threshold][\"Value\"].values\n",
    "                insert_agg_value(a1c_agg, creatinine_agg, d, visit_idx)\n",
    "                date_start_threshold = date_end_threshold\n",
    "            else:\n",
    "                date_end_threshold = date_start_threshold + relativedelta(months=2)\n",
    "                a1c_agg = alc_data[(alc_data[\"EVENT_DATE\"] > date_start_threshold) & \n",
    "                                   (alc_data[\"EVENT_DATE\"] <= date_end_threshold)][\"HBA1C_VALUE\"].values\n",
    "                creatinine_agg = creat_data[(creat_data[\"EVENT_DATE\"] > date_start_threshold) & \n",
    "                                            (creat_data[\"EVENT_DATE\"] <= date_end_threshold)][\"Value\"].values\n",
    "                insert_agg_value(a1c_agg, creatinine_agg, d, visit_idx)\n",
    "                date_start_threshold = date_end_threshold\n",
    "    return ts_df\n",
    "\n",
    "ts_df = merge_hba1c_serem(transformed_hba1c, patient_ids)"
   ]
  },
  {
   "cell_type": "code",
   "execution_count": null,
   "id": "ebaedb70",
   "metadata": {},
   "outputs": [],
   "source": [
    "ts_df.to_csv(\"baseline.csv\", index=False)"
   ]
  },
  {
   "cell_type": "code",
   "execution_count": 4,
   "id": "8c7039a3",
   "metadata": {},
   "outputs": [],
   "source": [
    "ts_df = pd.read_csv(\"baseline.csv\")"
   ]
  },
  {
   "cell_type": "code",
   "execution_count": 5,
   "id": "afdd8041",
   "metadata": {},
   "outputs": [],
   "source": [
    "ftr_list = ['SYSTOLIC_BLOOD_PRESSURE', 'BMI', 'HIGH_DENSITY_LIPOPROTEIN', 'LOW_DENSITY_LIPOPROTEIN', 'SERUM_CHOLESTEROL', \n",
    " 'HBA1C_-_DIABETIC_CONTROL', 'TRIGLYCERIDES', 'SERUM_CREATININE']\n",
    "\n",
    "for ftr in ftr_list:\n",
    "    ts_df[ftr] = ts_df.groupby('PRACTICE_PATIENT_ID')[ftr].transform(lambda v: v.ffill())\n",
    "    ts_df[ftr] = ts_df.groupby('PRACTICE_PATIENT_ID')[ftr].transform(lambda v: v.bfill())"
   ]
  },
  {
   "cell_type": "code",
   "execution_count": 6,
   "id": "27823ce9",
   "metadata": {},
   "outputs": [],
   "source": [
    "def calculate_egfr(serumCreatinineValue, age, sex, ethnicity, a, k):\n",
    "    CKD_STAGE = \"\"\n",
    "    min_val = math.pow(min((serumCreatinineValue / 88.42) / k, 1.0)+1e-8, a)\n",
    "    max_val = math.pow(max((serumCreatinineValue / 88.42) / k, 1.0), -1.209)\n",
    "    gfr = (141 * min_val * max_val) * (math.pow(0.993, age))\n",
    "    if sex == \"F\": \n",
    "        gfr = gfr * 1.018\n",
    "    \n",
    "    if ethnicity == \"BLACK\":\n",
    "        gfr = gfr * 1.159\n",
    "    \n",
    "    finale = round(gfr, 2)\n",
    "    if finale < 31:\n",
    "        CKD_STAGE = \"STAGE-4-5\"\n",
    "    elif finale >= 31 and finale < 61:\n",
    "        CKD_STAGE = \"STAGE-3\";\n",
    "    elif finale >= 61:\n",
    "        CKD_STAGE = \"STAGE-1-2\"\n",
    "    else:\n",
    "        CKD_STAGE = \"\"\n",
    "    \n",
    "    return finale, CKD_STAGE\n",
    "\n",
    "def generate_egfr(data):\n",
    "    k = 0.7 if data['SEX'] == 'F' else 0.9\n",
    "    a = -0.329 if data['SEX'] == 'F' else -0.411\n",
    "    egfr, _ = calculate_egfr(data['SERUM_CREATININE'], data['AGE'], data['SEX'], data['ETHNICITY'], a, k)\n",
    "    return egfr\n",
    "\n",
    "ts_df['EGFR'] = ts_df[['SEX', 'ETHNICITY', 'AGE', 'SERUM_CREATININE']].apply(generate_egfr, axis=1)"
   ]
  },
  {
   "cell_type": "code",
   "execution_count": 7,
   "id": "96e2a58d",
   "metadata": {},
   "outputs": [],
   "source": [
    "def generate_ckd(data):\n",
    "    k = 0.7 if data['SEX'] == 'F' else 0.9\n",
    "    a = -0.329 if data['SEX'] == 'F' else -0.411\n",
    "    _, ckd = calculate_egfr(data['SERUM_CREATININE'], data['AGE'], data['SEX'], data['ETHNICITY'], a, k)\n",
    "    return ckd\n",
    "\n",
    "ts_df['CKD_STAGE'] = ts_df[['SEX', 'ETHNICITY', 'AGE', 'SERUM_CREATININE']].apply(generate_ckd, axis=1)"
   ]
  },
  {
   "cell_type": "code",
   "execution_count": 8,
   "id": "80bcd9c7",
   "metadata": {},
   "outputs": [],
   "source": [
    "ts_df.to_csv(\"baseline.csv\", index=False)"
   ]
  },
  {
   "cell_type": "code",
   "execution_count": 4,
   "id": "4131f354",
   "metadata": {},
   "outputs": [],
   "source": [
    "ts_df = pd.read_csv(\"baseline.csv\")"
   ]
  },
  {
   "cell_type": "code",
   "execution_count": 5,
   "id": "a45aca58",
   "metadata": {},
   "outputs": [
    {
     "name": "stderr",
     "output_type": "stream",
     "text": [
      "100%|████████████████████████████████████████████████████████████████████████| 319298/319298 [01:53<00:00, 2802.86it/s]\n"
     ]
    }
   ],
   "source": [
    "ftr_list = ['SYSTOLIC_BLOOD_PRESSURE', 'BMI', 'HIGH_DENSITY_LIPOPROTEIN', 'LOW_DENSITY_LIPOPROTEIN', 'SERUM_CHOLESTEROL', \n",
    " 'HBA1C_-_DIABETIC_CONTROL', 'TRIGLYCERIDES', 'SERUM_CREATININE']\n",
    "invalid_pats = []\n",
    "for patient, d in tqdm(ts_df.groupby(['PRACTICE_PATIENT_ID'])):\n",
    "    for ftr in ftr_list:\n",
    "        if np.isnan(d.iloc[0, d.columns.get_loc(ftr)]):\n",
    "            invalid_pats.append(patient)"
   ]
  },
  {
   "cell_type": "code",
   "execution_count": 6,
   "id": "3fbbe428",
   "metadata": {},
   "outputs": [],
   "source": [
    "ts_df = ts_df.drop(ts_df[ts_df.PRACTICE_PATIENT_ID.isin(invalid_pats)].index)"
   ]
  },
  {
   "cell_type": "code",
   "execution_count": 7,
   "id": "e6782bc2",
   "metadata": {},
   "outputs": [
    {
     "name": "stdout",
     "output_type": "stream",
     "text": [
      "SYSTOLIC_BLOOD_PRESSURE 0.0\n",
      "BMI 0.0\n",
      "HIGH_DENSITY_LIPOPROTEIN 0.0\n",
      "LOW_DENSITY_LIPOPROTEIN 0.0\n",
      "SERUM_CHOLESTEROL 0.0\n",
      "HBA1C_-_DIABETIC_CONTROL 0.0\n",
      "TRIGLYCERIDES 0.0\n",
      "SERUM_CREATININE 0.0\n"
     ]
    }
   ],
   "source": [
    "for ftr in ftr_list:\n",
    "    print(ftr, (ts_df[ftr].isna().sum() / len(ts_df[ftr])) * 100 )"
   ]
  },
  {
   "cell_type": "code",
   "execution_count": 8,
   "id": "8cff8ebd",
   "metadata": {},
   "outputs": [
    {
     "data": {
      "text/plain": [
       "Index(['PRACTICE_PATIENT_ID', 'YEAR_START', 'YEAR_END', 'STATUS', 'SEX',\n",
       "       'ETHNICITY', 'INTERVAL_OF_FOLLOWUP', 'DATE_OF_BIRTH', 'DEATH_DATE',\n",
       "       'INDEX_DATE', 'EXIT_DATE', 'AGE', 'HYPERTENSION_BHAM_CAM',\n",
       "       'HYPOTHYROIDISM_MM', 'ATYPICALANTIPSYCHOTICS', 'AF_BHAM_CAM',\n",
       "       'RHEUM_ARTH_MM2', 'SYSTEMIC_LUPUS_ERYTHEMATOSUS_MM_BIRM_CAM',\n",
       "       'SIGHTTHREATENINGRETINOPATHYR2R3M1', 'ASTHMALONGLIST2018',\n",
       "       'DIABETES_FOOTULCER_AMPUTATION', 'SMIRR', 'ANXIETY_BIRM_CAM',\n",
       "       'DEPRESSION_BIRM_CAM', 'OSAFINAL', 'ALL_DIURETICS_D2T',\n",
       "       'ACE_INHIBITORS_D2T', 'MIGRAINEPREVALENT_BIRM_CAM',\n",
       "       'INSULIN_GOLD_OPTIMAL', 'THIAZOLIDINEDIONE_GOLD_OPTIMAL',\n",
       "       'BETABLOCKERS_OPTIMAL', 'STATIN_GOLD_OPTIMAL',\n",
       "       'SULPHONYLUREAS_GOLD_OPTIMAL', 'MEGLITINIDES_GOLD_OPTIMAL',\n",
       "       'CARBAMAZEPINE_OPTIMAL', 'METFORMIN_GOLD_OPTIMAL', 'SSRIS_OPTIMAL',\n",
       "       'DPP4INHIBITORS_GOLD_OPTIMAL', 'DPP4INHIBITORS_OPTIMAL',\n",
       "       'GLP1_GOLD_OPTIMAL', 'ACARBOSE_GOLD_OPTIMAL',\n",
       "       'SGLT2INHIBITORS_GOLD_OPTIMAL', 'SGLT2INHIBITORS_OPTIMAL',\n",
       "       'ANTIHYPERTENSIVE_GOLD', 'PERIPHERAL_NEUROPATHY_BIRM_CAM',\n",
       "       'SYSTOLIC_BLOOD_PRESSURE', 'BMI', 'HIGH_DENSITY_LIPOPROTEIN',\n",
       "       'LOW_DENSITY_LIPOPROTEIN', 'SERUM_CHOLESTEROL',\n",
       "       'HBA1C_-_DIABETIC_CONTROL', 'SMOKING', 'TRIGLYCERIDES',\n",
       "       'SERUM_CREATININE', 'EGFR', 'CKD_STAGE'],\n",
       "      dtype='object')"
      ]
     },
     "execution_count": 8,
     "metadata": {},
     "output_type": "execute_result"
    }
   ],
   "source": [
    "ts_df.columns"
   ]
  },
  {
   "cell_type": "code",
   "execution_count": 9,
   "id": "0238e1a1",
   "metadata": {},
   "outputs": [],
   "source": [
    "ts_df['DPP4I'] = ts_df[['DPP4INHIBITORS_GOLD_OPTIMAL', 'DPP4INHIBITORS_OPTIMAL']].max(axis=1)"
   ]
  },
  {
   "cell_type": "code",
   "execution_count": 10,
   "id": "aea832f1",
   "metadata": {},
   "outputs": [],
   "source": [
    "ts_df['SGLT2'] = ts_df[['SGLT2INHIBITORS_GOLD_OPTIMAL', 'SGLT2INHIBITORS_OPTIMAL']].max(axis=1)"
   ]
  },
  {
   "cell_type": "code",
   "execution_count": 11,
   "id": "2e5f85e5",
   "metadata": {},
   "outputs": [],
   "source": [
    "ts_df = ts_df[ts_df['PRACTICE_PATIENT_ID'].isin(patient_ids)]"
   ]
  },
  {
   "cell_type": "code",
   "execution_count": 12,
   "id": "adf2f1e3",
   "metadata": {},
   "outputs": [
    {
     "data": {
      "text/plain": [
       "Index(['PRACTICE_PATIENT_ID', 'YEAR_START', 'YEAR_END', 'STATUS', 'SEX',\n",
       "       'ETHNICITY', 'INTERVAL_OF_FOLLOWUP', 'DATE_OF_BIRTH', 'DEATH_DATE',\n",
       "       'INDEX_DATE', 'EXIT_DATE', 'AGE', 'HYPERTENSION_BHAM_CAM',\n",
       "       'HYPOTHYROIDISM_MM', 'ATYPICALANTIPSYCHOTICS', 'AF_BHAM_CAM',\n",
       "       'RHEUM_ARTH_MM2', 'SYSTEMIC_LUPUS_ERYTHEMATOSUS_MM_BIRM_CAM',\n",
       "       'SIGHTTHREATENINGRETINOPATHYR2R3M1', 'ASTHMALONGLIST2018',\n",
       "       'DIABETES_FOOTULCER_AMPUTATION', 'SMIRR', 'ANXIETY_BIRM_CAM',\n",
       "       'DEPRESSION_BIRM_CAM', 'OSAFINAL', 'ALL_DIURETICS_D2T',\n",
       "       'ACE_INHIBITORS_D2T', 'MIGRAINEPREVALENT_BIRM_CAM',\n",
       "       'INSULIN_GOLD_OPTIMAL', 'THIAZOLIDINEDIONE_GOLD_OPTIMAL',\n",
       "       'BETABLOCKERS_OPTIMAL', 'STATIN_GOLD_OPTIMAL',\n",
       "       'SULPHONYLUREAS_GOLD_OPTIMAL', 'MEGLITINIDES_GOLD_OPTIMAL',\n",
       "       'CARBAMAZEPINE_OPTIMAL', 'METFORMIN_GOLD_OPTIMAL', 'SSRIS_OPTIMAL',\n",
       "       'DPP4INHIBITORS_GOLD_OPTIMAL', 'DPP4INHIBITORS_OPTIMAL',\n",
       "       'GLP1_GOLD_OPTIMAL', 'ACARBOSE_GOLD_OPTIMAL',\n",
       "       'SGLT2INHIBITORS_GOLD_OPTIMAL', 'SGLT2INHIBITORS_OPTIMAL',\n",
       "       'ANTIHYPERTENSIVE_GOLD', 'PERIPHERAL_NEUROPATHY_BIRM_CAM',\n",
       "       'SYSTOLIC_BLOOD_PRESSURE', 'BMI', 'HIGH_DENSITY_LIPOPROTEIN',\n",
       "       'LOW_DENSITY_LIPOPROTEIN', 'SERUM_CHOLESTEROL',\n",
       "       'HBA1C_-_DIABETIC_CONTROL', 'SMOKING', 'TRIGLYCERIDES',\n",
       "       'SERUM_CREATININE', 'EGFR', 'CKD_STAGE', 'DPP4I', 'SGLT2'],\n",
       "      dtype='object')"
      ]
     },
     "execution_count": 12,
     "metadata": {},
     "output_type": "execute_result"
    }
   ],
   "source": [
    "ts_df.columns"
   ]
  },
  {
   "cell_type": "code",
   "execution_count": 13,
   "id": "686f5250",
   "metadata": {},
   "outputs": [
    {
     "name": "stderr",
     "output_type": "stream",
     "text": [
      "100%|████████████████████████████████████████████████████████████████████████| 164564/164564 [00:20<00:00, 7911.30it/s]\n"
     ]
    }
   ],
   "source": [
    "invalid_id = []\n",
    "\n",
    "for patient, d in tqdm(ts_df.groupby(['PRACTICE_PATIENT_ID'])):\n",
    "    total_num_visits = d.shape[0]\n",
    "    if np.any(d['EGFR'].values < 60.0):\n",
    "        invalid_id.append(patient)\n",
    "ts_df = ts_df.drop(ts_df[ts_df.PRACTICE_PATIENT_ID.isin(invalid_id)].index)"
   ]
  },
  {
   "cell_type": "code",
   "execution_count": 14,
   "id": "f02442ad",
   "metadata": {},
   "outputs": [
    {
     "data": {
      "text/plain": [
       "118280"
      ]
     },
     "execution_count": 14,
     "metadata": {},
     "output_type": "execute_result"
    }
   ],
   "source": [
    "len(ts_df['PRACTICE_PATIENT_ID'].unique())"
   ]
  },
  {
   "cell_type": "code",
   "execution_count": 15,
   "id": "ced1ac2d",
   "metadata": {},
   "outputs": [],
   "source": [
    "def foo(group):\n",
    "    for i in range(1,len(group)):\n",
    "        if sum(group.loc[group.index[i], treatment_list].values) == 0:\n",
    "            group.iloc[i,group.columns.get_loc('INSULIN_GOLD_OPTIMAL')]= group.iloc[i-1,group.columns.get_loc('INSULIN_GOLD_OPTIMAL')]\n",
    "            group.iloc[i,group.columns.get_loc('THIAZOLIDINEDIONE_GOLD_OPTIMAL')]= group.iloc[i-1,group.columns.get_loc('THIAZOLIDINEDIONE_GOLD_OPTIMAL')]\n",
    "            group.iloc[i,group.columns.get_loc('SULPHONYLUREAS_GOLD_OPTIMAL')]= group.iloc[i-1,group.columns.get_loc('SULPHONYLUREAS_GOLD_OPTIMAL')]\n",
    "            group.iloc[i,group.columns.get_loc('MEGLITINIDES_GOLD_OPTIMAL')]= group.iloc[i-1,group.columns.get_loc('MEGLITINIDES_GOLD_OPTIMAL')]\n",
    "            group.iloc[i,group.columns.get_loc('METFORMIN_GOLD_OPTIMAL')]= group.iloc[i-1,group.columns.get_loc('METFORMIN_GOLD_OPTIMAL')]\n",
    "            group.iloc[i,group.columns.get_loc('GLP1_GOLD_OPTIMAL')]= group.iloc[i-1,group.columns.get_loc('GLP1_GOLD_OPTIMAL')]\n",
    "            group.iloc[i,group.columns.get_loc('ACARBOSE_GOLD_OPTIMAL')]= group.iloc[i-1,group.columns.get_loc('ACARBOSE_GOLD_OPTIMAL')]\n",
    "            group.iloc[i,group.columns.get_loc('DPP4I')]= group.iloc[i-1,group.columns.get_loc('DPP4I')]\n",
    "            group.iloc[i,group.columns.get_loc('SGLT2')]= group.iloc[i-1,group.columns.get_loc('SGLT2')]\n",
    "    return group\n",
    "ts_df = ts_df.groupby('PRACTICE_PATIENT_ID').apply(foo)"
   ]
  },
  {
   "cell_type": "code",
   "execution_count": 16,
   "id": "c0ecd85a",
   "metadata": {},
   "outputs": [],
   "source": [
    "ts_df.to_csv(\"clean_baseline.csv\", index=False)"
   ]
  },
  {
   "cell_type": "code",
   "execution_count": null,
   "id": "4d477e62",
   "metadata": {},
   "outputs": [],
   "source": [
    "ts_df = pd.read_csv(\"clean_baseline.csv\")"
   ]
  },
  {
   "cell_type": "code",
   "execution_count": 17,
   "id": "176d400b",
   "metadata": {},
   "outputs": [],
   "source": [
    "subset = ts_df[(ts_df['INTERVAL_OF_FOLLOWUP'] >= 4) & (ts_df['INTERVAL_OF_FOLLOWUP'] <= 60)  & (ts_df['AGE'] >= 25) & (ts_df['AGE'] <= 80)].copy(deep=True)"
   ]
  },
  {
   "cell_type": "code",
   "execution_count": 18,
   "id": "ddeef1a5",
   "metadata": {},
   "outputs": [
    {
     "data": {
      "text/plain": [
       "98425"
      ]
     },
     "execution_count": 18,
     "metadata": {},
     "output_type": "execute_result"
    }
   ],
   "source": [
    "len(subset['PRACTICE_PATIENT_ID'].unique())"
   ]
  },
  {
   "cell_type": "code",
   "execution_count": 19,
   "id": "ebd277d8",
   "metadata": {},
   "outputs": [],
   "source": [
    "def get_action(row):\n",
    "    index_l = np.where(row == 1)\n",
    "    combi_drugs = \"\"\n",
    "    for idx in index_l[0]:\n",
    "        combi_drugs += treatment_list[idx].split(\"_\")[0] + \"+\"\n",
    "    if combi_drugs == \"\":\n",
    "        return \"LIFESTYLE_INTERVENTION\"\n",
    "    else:\n",
    "        return combi_drugs[:-1]\n",
    "\n",
    "\n",
    "subset['ACTION_DESC'] = subset.apply(lambda row: get_action(row[treatment_list]), axis=1)"
   ]
  },
  {
   "cell_type": "code",
   "execution_count": 20,
   "id": "495dc95a",
   "metadata": {},
   "outputs": [],
   "source": [
    "subset[\"N_DRUGS\"] = subset[\"ACTION_DESC\"].apply(lambda x: len(x.split(\"+\")))"
   ]
  },
  {
   "cell_type": "code",
   "execution_count": 21,
   "id": "ee9c5940",
   "metadata": {},
   "outputs": [],
   "source": [
    "subset['ACTION'] = pd.factorize(subset['ACTION_DESC'])[0]"
   ]
  },
  {
   "cell_type": "code",
   "execution_count": 25,
   "id": "5fddcf88",
   "metadata": {},
   "outputs": [
    {
     "data": {
      "text/html": [
       "<div>\n",
       "<style scoped>\n",
       "    .dataframe tbody tr th:only-of-type {\n",
       "        vertical-align: middle;\n",
       "    }\n",
       "\n",
       "    .dataframe tbody tr th {\n",
       "        vertical-align: top;\n",
       "    }\n",
       "\n",
       "    .dataframe thead th {\n",
       "        text-align: right;\n",
       "    }\n",
       "</style>\n",
       "<table border=\"1\" class=\"dataframe\">\n",
       "  <thead>\n",
       "    <tr style=\"text-align: right;\">\n",
       "      <th></th>\n",
       "      <th>PRACTICE_PATIENT_ID</th>\n",
       "      <th>YEAR_START</th>\n",
       "      <th>YEAR_END</th>\n",
       "      <th>STATUS</th>\n",
       "      <th>SEX</th>\n",
       "      <th>ETHNICITY</th>\n",
       "      <th>INTERVAL_OF_FOLLOWUP</th>\n",
       "      <th>DATE_OF_BIRTH</th>\n",
       "      <th>DEATH_DATE</th>\n",
       "      <th>INDEX_DATE</th>\n",
       "      <th>...</th>\n",
       "      <th>SMOKING</th>\n",
       "      <th>TRIGLYCERIDES</th>\n",
       "      <th>SERUM_CREATININE</th>\n",
       "      <th>EGFR</th>\n",
       "      <th>CKD_STAGE</th>\n",
       "      <th>DPP4I</th>\n",
       "      <th>SGLT2</th>\n",
       "      <th>ACTION_DESC</th>\n",
       "      <th>N_DRUGS</th>\n",
       "      <th>ACTION</th>\n",
       "    </tr>\n",
       "  </thead>\n",
       "  <tbody>\n",
       "    <tr>\n",
       "      <th>765</th>\n",
       "      <td>p10596_192810596</td>\n",
       "      <td>0</td>\n",
       "      <td>1</td>\n",
       "      <td>0</td>\n",
       "      <td>M</td>\n",
       "      <td>MISSING</td>\n",
       "      <td>19</td>\n",
       "      <td>1951-12-01</td>\n",
       "      <td>NaN</td>\n",
       "      <td>2010-01-01</td>\n",
       "      <td>...</td>\n",
       "      <td>NaN</td>\n",
       "      <td>1.12</td>\n",
       "      <td>86.0</td>\n",
       "      <td>85.36</td>\n",
       "      <td>STAGE-1-2</td>\n",
       "      <td>0</td>\n",
       "      <td>0</td>\n",
       "      <td>LIFESTYLE_INTERVENTION</td>\n",
       "      <td>1</td>\n",
       "      <td>4</td>\n",
       "    </tr>\n",
       "    <tr>\n",
       "      <th>766</th>\n",
       "      <td>p10596_192810596</td>\n",
       "      <td>1</td>\n",
       "      <td>2</td>\n",
       "      <td>0</td>\n",
       "      <td>M</td>\n",
       "      <td>MISSING</td>\n",
       "      <td>19</td>\n",
       "      <td>1951-12-01</td>\n",
       "      <td>NaN</td>\n",
       "      <td>2010-01-01</td>\n",
       "      <td>...</td>\n",
       "      <td>NaN</td>\n",
       "      <td>1.12</td>\n",
       "      <td>86.0</td>\n",
       "      <td>85.26</td>\n",
       "      <td>STAGE-1-2</td>\n",
       "      <td>0</td>\n",
       "      <td>0</td>\n",
       "      <td>LIFESTYLE_INTERVENTION</td>\n",
       "      <td>1</td>\n",
       "      <td>4</td>\n",
       "    </tr>\n",
       "    <tr>\n",
       "      <th>767</th>\n",
       "      <td>p10596_192810596</td>\n",
       "      <td>2</td>\n",
       "      <td>3</td>\n",
       "      <td>0</td>\n",
       "      <td>M</td>\n",
       "      <td>MISSING</td>\n",
       "      <td>19</td>\n",
       "      <td>1951-12-01</td>\n",
       "      <td>NaN</td>\n",
       "      <td>2010-01-01</td>\n",
       "      <td>...</td>\n",
       "      <td>3.0</td>\n",
       "      <td>1.12</td>\n",
       "      <td>86.0</td>\n",
       "      <td>85.17</td>\n",
       "      <td>STAGE-1-2</td>\n",
       "      <td>0</td>\n",
       "      <td>0</td>\n",
       "      <td>LIFESTYLE_INTERVENTION</td>\n",
       "      <td>1</td>\n",
       "      <td>4</td>\n",
       "    </tr>\n",
       "    <tr>\n",
       "      <th>768</th>\n",
       "      <td>p10596_192810596</td>\n",
       "      <td>3</td>\n",
       "      <td>4</td>\n",
       "      <td>0</td>\n",
       "      <td>M</td>\n",
       "      <td>MISSING</td>\n",
       "      <td>19</td>\n",
       "      <td>1951-12-01</td>\n",
       "      <td>NaN</td>\n",
       "      <td>2010-01-01</td>\n",
       "      <td>...</td>\n",
       "      <td>NaN</td>\n",
       "      <td>1.12</td>\n",
       "      <td>86.0</td>\n",
       "      <td>85.07</td>\n",
       "      <td>STAGE-1-2</td>\n",
       "      <td>0</td>\n",
       "      <td>0</td>\n",
       "      <td>LIFESTYLE_INTERVENTION</td>\n",
       "      <td>1</td>\n",
       "      <td>4</td>\n",
       "    </tr>\n",
       "    <tr>\n",
       "      <th>769</th>\n",
       "      <td>p10596_192810596</td>\n",
       "      <td>4</td>\n",
       "      <td>5</td>\n",
       "      <td>0</td>\n",
       "      <td>M</td>\n",
       "      <td>MISSING</td>\n",
       "      <td>19</td>\n",
       "      <td>1951-12-01</td>\n",
       "      <td>NaN</td>\n",
       "      <td>2010-01-01</td>\n",
       "      <td>...</td>\n",
       "      <td>NaN</td>\n",
       "      <td>1.12</td>\n",
       "      <td>86.0</td>\n",
       "      <td>84.96</td>\n",
       "      <td>STAGE-1-2</td>\n",
       "      <td>0</td>\n",
       "      <td>0</td>\n",
       "      <td>LIFESTYLE_INTERVENTION</td>\n",
       "      <td>1</td>\n",
       "      <td>4</td>\n",
       "    </tr>\n",
       "  </tbody>\n",
       "</table>\n",
       "<p>5 rows × 61 columns</p>\n",
       "</div>"
      ],
      "text/plain": [
       "    PRACTICE_PATIENT_ID  YEAR_START  YEAR_END  STATUS SEX ETHNICITY  \\\n",
       "765    p10596_192810596           0         1       0   M   MISSING   \n",
       "766    p10596_192810596           1         2       0   M   MISSING   \n",
       "767    p10596_192810596           2         3       0   M   MISSING   \n",
       "768    p10596_192810596           3         4       0   M   MISSING   \n",
       "769    p10596_192810596           4         5       0   M   MISSING   \n",
       "\n",
       "     INTERVAL_OF_FOLLOWUP DATE_OF_BIRTH DEATH_DATE  INDEX_DATE  ... SMOKING  \\\n",
       "765                    19    1951-12-01        NaN  2010-01-01  ...     NaN   \n",
       "766                    19    1951-12-01        NaN  2010-01-01  ...     NaN   \n",
       "767                    19    1951-12-01        NaN  2010-01-01  ...     3.0   \n",
       "768                    19    1951-12-01        NaN  2010-01-01  ...     NaN   \n",
       "769                    19    1951-12-01        NaN  2010-01-01  ...     NaN   \n",
       "\n",
       "     TRIGLYCERIDES  SERUM_CREATININE   EGFR  CKD_STAGE  DPP4I  SGLT2  \\\n",
       "765           1.12              86.0  85.36  STAGE-1-2      0      0   \n",
       "766           1.12              86.0  85.26  STAGE-1-2      0      0   \n",
       "767           1.12              86.0  85.17  STAGE-1-2      0      0   \n",
       "768           1.12              86.0  85.07  STAGE-1-2      0      0   \n",
       "769           1.12              86.0  84.96  STAGE-1-2      0      0   \n",
       "\n",
       "                ACTION_DESC  N_DRUGS  ACTION  \n",
       "765  LIFESTYLE_INTERVENTION        1       4  \n",
       "766  LIFESTYLE_INTERVENTION        1       4  \n",
       "767  LIFESTYLE_INTERVENTION        1       4  \n",
       "768  LIFESTYLE_INTERVENTION        1       4  \n",
       "769  LIFESTYLE_INTERVENTION        1       4  \n",
       "\n",
       "[5 rows x 61 columns]"
      ]
     },
     "execution_count": 25,
     "metadata": {},
     "output_type": "execute_result"
    }
   ],
   "source": [
    "subset[subset['ACTION_DESC'] == 'LIFESTYLE_INTERVENTION'].head(5)"
   ]
  },
  {
   "cell_type": "code",
   "execution_count": 26,
   "id": "4c5cd8e1",
   "metadata": {},
   "outputs": [],
   "source": [
    "subset[\"MEDICATION\"] = subset.groupby('PRACTICE_PATIENT_ID').ACTION.shift(1,fill_value=4)"
   ]
  },
  {
   "cell_type": "code",
   "execution_count": 27,
   "id": "78c4e87c",
   "metadata": {},
   "outputs": [],
   "source": [
    "subset = subset[all_features+['ACTION_DESC', 'ACTION', 'MEDICATION']]"
   ]
  },
  {
   "cell_type": "code",
   "execution_count": 28,
   "id": "14db4934",
   "metadata": {},
   "outputs": [],
   "source": [
    "subset = subset.rename(columns={'HBA1C_-_DIABETIC_CONTROL': 'HBA1C',\n",
    "                   'INSULIN_GOLD_OPTIMAL': 'INSULIN', \n",
    "                   'THIAZOLIDINEDIONE_GOLD_OPTIMAL': 'THIAZOLIDINEDIONE',\n",
    "                   'BETABLOCKERS_OPTIMAL': 'BETABLOCKERS', \n",
    "                   'SULPHONYLUREAS_GOLD_OPTIMAL': 'SULPHONYLUREAS',\n",
    "                   'MEGLITINIDES_GOLD_OPTIMAL': 'MEGLITINIDES', \n",
    "                   'METFORMIN_GOLD_OPTIMAL': 'METFORMIN',\n",
    "                   'GLP1_GOLD_OPTIMAL': 'GLP1', \n",
    "                   'ACARBOSE_GOLD_OPTIMAL': 'ACARBOSE'})"
   ]
  },
  {
   "cell_type": "code",
   "execution_count": 30,
   "id": "702286d5",
   "metadata": {},
   "outputs": [],
   "source": [
    "subset[\"EGFR\"] = subset.EGFR.clip(0.0, 90.0)\n",
    "subset[\"SYSTOLIC_BLOOD_PRESSURE\"] = subset.SYSTOLIC_BLOOD_PRESSURE.clip(0.0, 240.0)\n",
    "subset[\"HBA1C\"] = subset.HBA1C.clip(0.0, 300.0)\n",
    "subset[\"SERUM_CHOLESTEROL\"] = subset.SERUM_CHOLESTEROL.clip(0.0, 20.0)\n",
    "subset[\"HIGH_DENSITY_LIPOPROTEIN\"] = subset.HIGH_DENSITY_LIPOPROTEIN.clip(0.0, 30.0)\n",
    "subset[\"LOW_DENSITY_LIPOPROTEIN\"] = subset.LOW_DENSITY_LIPOPROTEIN.clip(0.0, 30.0)\n",
    "subset[\"TRIGLYCERIDES\"] = subset.TRIGLYCERIDES.clip(0.0, 50.0)\n",
    "subset[\"BMI\"] = subset.BMI.clip(0.0, 120.0)"
   ]
  },
  {
   "cell_type": "code",
   "execution_count": 32,
   "id": "7eba6fa5",
   "metadata": {},
   "outputs": [
    {
     "name": "stdout",
     "output_type": "stream",
     "text": [
      "EGFR 60.0 90.0\n",
      "SYSTOLIC_BLOOD_PRESSURE 0.0 240.0\n",
      "HBA1C 0.0 300.0\n",
      "SERUM_CHOLESTEROL 0.0 20.0\n",
      "HIGH_DENSITY_LIPOPROTEIN 0.0 30.0\n",
      "LOW_DENSITY_LIPOPROTEIN 0.0 30.0\n",
      "TRIGLYCERIDES 0.0 50.0\n",
      "BMI 0.1 120.0\n",
      "AGE 25.0 80.0\n"
     ]
    }
   ],
   "source": [
    "for col in ['EGFR', 'SYSTOLIC_BLOOD_PRESSURE', 'HBA1C', 'SERUM_CHOLESTEROL', 'HIGH_DENSITY_LIPOPROTEIN', \n",
    "            'LOW_DENSITY_LIPOPROTEIN', 'TRIGLYCERIDES', 'BMI', 'AGE']:\n",
    "    print(col, subset[col].min(), subset[col].max())"
   ]
  },
  {
   "cell_type": "code",
   "execution_count": null,
   "id": "b0bba092",
   "metadata": {},
   "outputs": [],
   "source": [
    "# Standardise ranges\n",
    "for col in ['EGFR', 'SYSTOLIC_BLOOD_PRESSURE', 'HBA1C', 'SERUM_CHOLESTEROL', 'HIGH_DENSITY_LIPOPROTEIN', \n",
    "            'LOW_DENSITY_LIPOPROTEIN', 'TRIGLYCERIDES', 'BMI']:\n",
    "    min_val = round(subset[col].min(), 2)\n",
    "    max_val = round(subset[col].max(), 2)\n",
    "    print(col, min_val, max_val)\n",
    "    subset[col] = subset[col].clip(min_val, max_val)"
   ]
  },
  {
   "cell_type": "code",
   "execution_count": 26,
   "id": "73e0f4fa",
   "metadata": {},
   "outputs": [],
   "source": []
  },
  {
   "cell_type": "code",
   "execution_count": 33,
   "id": "af7f3fe3",
   "metadata": {},
   "outputs": [],
   "source": [
    "def improvement(x, lower):\n",
    "    x = x.values\n",
    "    if x[0] <= lower and x[1] <= lower:\n",
    "        return(0.0)\n",
    "    else:\n",
    "        val = round(x[0] - x[1], 2)\n",
    "        return(val)\n",
    "\n",
    "def bmi_improvement(x):\n",
    "    x = x.values\n",
    "    if 18.5 <= x[0] <= 24.9 and 18.5 <= x[1] <= 24.9:\n",
    "        return (0.0)\n",
    "    if x[0] < 18.5  or x[1] < 18.5:\n",
    "        val = round(x[1] - x[0], 2)\n",
    "        return (val)\n",
    "    else:\n",
    "        val = round(x[0] - x[1], 2)\n",
    "        return(val)"
   ]
  },
  {
   "cell_type": "code",
   "execution_count": 34,
   "id": "7a4eb346",
   "metadata": {},
   "outputs": [],
   "source": [
    "f_s = lambda x: x.rolling(2).apply(lambda x: improvement(x, 120)).shift(-1,fill_value=0) # last visit has 0 rewards\n",
    "f_a1c = lambda x: x.rolling(2).apply(lambda x: improvement(x, 42)).shift(-1,fill_value=0) # last visit has 0 rewards \n",
    "f_bmi = lambda x: x.rolling(2).apply(lambda x: improvement(x, 24.9)).shift(-1,fill_value=0) # last visit has 0 rewards\n",
    "\n",
    "#data['REWARD_BP'] = data.groupby('PRACTICE_PATIENT_ID').SYSTOLIC_BP.apply(f_s)\n",
    "#data['REWARD_A1C'] = data.groupby('PRACTICE_PATIENT_ID').HBA1C.apply(f_a1c)\n",
    "data_sys = subset.groupby('PRACTICE_PATIENT_ID').SYSTOLIC_BLOOD_PRESSURE.apply(f_s)\n",
    "data_a1c = subset.groupby('PRACTICE_PATIENT_ID').HBA1C.apply(f_a1c)\n",
    "data_bmi = subset.groupby('PRACTICE_PATIENT_ID').BMI.apply(f_bmi)\n",
    "#data_n_drugs = data.STATUS.apply(lambda x: -x)"
   ]
  },
  {
   "cell_type": "code",
   "execution_count": 35,
   "id": "90945f01",
   "metadata": {},
   "outputs": [],
   "source": [
    "data_a1c_scaled = (2*((data_a1c-min(data_a1c))/(max(data_a1c)-min(data_a1c))))-1\n",
    "data_sys_scaled = (2*((data_sys-min(data_sys))/(max(data_sys)-min(data_sys))))-1\n",
    "data_bmi_scaled = (2*((data_bmi-min(data_bmi))/(max(data_bmi)-min(data_bmi))))-1"
   ]
  },
  {
   "cell_type": "code",
   "execution_count": 36,
   "id": "a9508fb5",
   "metadata": {},
   "outputs": [
    {
     "name": "stdout",
     "output_type": "stream",
     "text": [
      "a1c:  -1.0 1.0\n",
      "sys:  -1.0 1.0\n",
      "bmi:  -1.0 1.0\n"
     ]
    }
   ],
   "source": [
    "print(\"a1c: \", min(data_a1c_scaled), max(data_a1c_scaled))\n",
    "print(\"sys: \", min(data_sys_scaled), max(data_sys_scaled))\n",
    "print(\"bmi: \", min(data_bmi_scaled), max(data_bmi_scaled))"
   ]
  },
  {
   "cell_type": "code",
   "execution_count": 37,
   "id": "6e8fa1a7",
   "metadata": {},
   "outputs": [],
   "source": [
    "subset['REWARD_SYSTOLIC'] = data_sys_scaled\n",
    "subset['REWARD_HBA1C'] = data_a1c_scaled\n",
    "subset['REWARD_BMI'] = data_bmi_scaled\n",
    "subset['REWARD_A1C_BP'] = data_sys_scaled + data_a1c_scaled\n",
    "subset['REWARD_ALL'] = data_sys_scaled + data_a1c_scaled + data_bmi_scaled"
   ]
  },
  {
   "cell_type": "code",
   "execution_count": 38,
   "id": "48bedd8b",
   "metadata": {},
   "outputs": [],
   "source": [
    "def discount_cumsum(x, gamma):\n",
    "    disc_cumsum = np.zeros_like(x)\n",
    "    disc_cumsum[-1] = x[-1]\n",
    "    for t in reversed(range(x.shape[0]-1)):\n",
    "        disc_cumsum[t] = x[t] + gamma * disc_cumsum[t+1]\n",
    "    return disc_cumsum"
   ]
  },
  {
   "cell_type": "code",
   "execution_count": 39,
   "id": "a5b3b8ed",
   "metadata": {},
   "outputs": [],
   "source": [
    "subset['RTG_ALL'] = subset['REWARD_ALL'].values\n",
    "def rtg(group):\n",
    "    rewards = group['REWARD_ALL'].values\n",
    "    discounted_rewards = discount_cumsum(rewards, 1.0)\n",
    "    for i in range(0,len(group)):\n",
    "        group.iloc[i,group.columns.get_loc('RTG_ALL')]= discounted_rewards[i]\n",
    "    return group\n",
    "subset = subset.groupby('PRACTICE_PATIENT_ID').apply(rtg)"
   ]
  },
  {
   "cell_type": "code",
   "execution_count": 40,
   "id": "314b3871",
   "metadata": {},
   "outputs": [],
   "source": [
    "subset['RTG_A1C_BP'] = subset['REWARD_A1C_BP'].values\n",
    "def rtg(group):\n",
    "    rewards = group['REWARD_A1C_BP'].values\n",
    "    discounted_rewards = discount_cumsum(rewards, 1.0)\n",
    "    for i in range(0,len(group)):\n",
    "        group.iloc[i,group.columns.get_loc('RTG_A1C_BP')]= discounted_rewards[i]\n",
    "    return group\n",
    "subset = subset.groupby('PRACTICE_PATIENT_ID').apply(rtg)"
   ]
  },
  {
   "cell_type": "code",
   "execution_count": 41,
   "id": "57d09886",
   "metadata": {},
   "outputs": [],
   "source": [
    "subset['RTG_A1C'] = subset['REWARD_HBA1C'].values\n",
    "def rtg(group):\n",
    "    rewards = group['REWARD_HBA1C'].values\n",
    "    discounted_rewards = discount_cumsum(rewards, 1.0)\n",
    "    for i in range(0,len(group)):\n",
    "        group.iloc[i,group.columns.get_loc('RTG_A1C')]= discounted_rewards[i]\n",
    "    return group\n",
    "subset = subset.groupby('PRACTICE_PATIENT_ID').apply(rtg)"
   ]
  },
  {
   "cell_type": "code",
   "execution_count": 42,
   "id": "8968e203",
   "metadata": {},
   "outputs": [],
   "source": [
    "subset['RTG_BMI'] = subset['REWARD_BMI'].values\n",
    "def rtg(group):\n",
    "    rewards = group['REWARD_BMI'].values\n",
    "    discounted_rewards = discount_cumsum(rewards, 1.0)\n",
    "    for i in range(0,len(group)):\n",
    "        group.iloc[i,group.columns.get_loc('RTG_BMI')]= discounted_rewards[i]\n",
    "    return group\n",
    "subset = subset.groupby('PRACTICE_PATIENT_ID').apply(rtg)"
   ]
  },
  {
   "cell_type": "code",
   "execution_count": 43,
   "id": "24a725dd",
   "metadata": {},
   "outputs": [],
   "source": [
    "subset['RTG_ALL'] = (2*((subset['RTG_ALL']-min(subset['RTG_ALL']))/(max(subset['RTG_ALL'])-min(subset['RTG_ALL']))))-1\n",
    "subset['RTG_A1C_BP'] = (2*((subset['RTG_A1C_BP']-min(subset['RTG_A1C_BP']))/(max(subset['RTG_A1C_BP'])-min(subset['RTG_A1C_BP']))))-1\n",
    "subset['RTG_A1C'] = (2*((subset['RTG_A1C']-min(subset['RTG_A1C']))/(max(subset['RTG_A1C'])-min(subset['RTG_A1C']))))-1\n",
    "subset['RTG_BMI'] = (2*((subset['RTG_BMI']-min(subset['RTG_BMI']))/(max(subset['RTG_BMI'])-min(subset['RTG_BMI']))))-1"
   ]
  },
  {
   "cell_type": "code",
   "execution_count": 44,
   "id": "d6a6fc73",
   "metadata": {},
   "outputs": [],
   "source": [
    "subset['REWARD_SYSTOLIC'] = subset['REWARD_SYSTOLIC'].round(2)\n",
    "subset['REWARD_HBA1C'] = subset['REWARD_HBA1C'].round(2)\n",
    "subset['REWARD_BMI'] = subset['REWARD_BMI'].round(2)\n",
    "subset['REWARD_A1C_BP'] = subset['REWARD_A1C_BP'].round(2)\n",
    "subset['REWARD_ALL'] = subset['REWARD_ALL'].round(2)\n",
    "subset['RTG_ALL'] = subset['RTG_ALL'].round(2)\n",
    "subset['RTG_A1C_BP'] = subset['RTG_A1C_BP'].round(2)\n",
    "subset['RTG_A1C'] = subset['RTG_A1C'].round(2)\n",
    "subset['RTG_BMI'] = subset['RTG_BMI'].round(2)"
   ]
  },
  {
   "cell_type": "code",
   "execution_count": 45,
   "id": "0cb96d62",
   "metadata": {},
   "outputs": [
    {
     "name": "stdout",
     "output_type": "stream",
     "text": [
      "-1.0 1.0\n",
      "-1.0 1.0\n",
      "-1.0 1.0\n",
      "-1.0 1.0\n"
     ]
    }
   ],
   "source": [
    "print(np.min(subset['RTG_ALL'].values), np.max(subset['RTG_ALL'].values))\n",
    "print(np.min(subset['RTG_A1C_BP'].values), np.max(subset['RTG_A1C_BP'].values))\n",
    "print(np.min(subset['RTG_A1C'].values), np.max(subset['RTG_A1C'].values))\n",
    "print(np.min(subset['RTG_BMI'].values), np.max(subset['RTG_BMI'].values))"
   ]
  },
  {
   "cell_type": "code",
   "execution_count": null,
   "id": "675a3a2e",
   "metadata": {},
   "outputs": [],
   "source": [
    "subset[[\"PRACTICE_PATIENT_ID\", \"REWARD_BMI\", \"RTG_BMI\", \"BMI\"]].tail(50)"
   ]
  },
  {
   "cell_type": "code",
   "execution_count": 46,
   "id": "41782d8e",
   "metadata": {},
   "outputs": [],
   "source": [
    "subset.to_csv(\"processed.csv\", index=False)"
   ]
  },
  {
   "cell_type": "code",
   "execution_count": 47,
   "id": "676ca960",
   "metadata": {},
   "outputs": [],
   "source": [
    "subset_m = subset[subset['SEX'] == 'M']\n",
    "subset_f = subset[subset['SEX'] == 'F']"
   ]
  },
  {
   "cell_type": "code",
   "execution_count": 48,
   "id": "43ca5594",
   "metadata": {},
   "outputs": [],
   "source": [
    "subset_m.to_csv(\"processed_m.csv\", index=False)\n",
    "subset_f.to_csv(\"processed_f.csv\", index=False)"
   ]
  },
  {
   "cell_type": "code",
   "execution_count": 49,
   "id": "ace43d68",
   "metadata": {},
   "outputs": [
    {
     "name": "stdout",
     "output_type": "stream",
     "text": [
      "56271\n",
      "42154\n"
     ]
    }
   ],
   "source": [
    "print(len(subset_m['PRACTICE_PATIENT_ID'].unique()))\n",
    "print(len(subset_f['PRACTICE_PATIENT_ID'].unique()))"
   ]
  },
  {
   "cell_type": "code",
   "execution_count": 55,
   "id": "d5ad4875",
   "metadata": {},
   "outputs": [
    {
     "name": "stdout",
     "output_type": "stream",
     "text": [
      "50644\n",
      "37939\n"
     ]
    }
   ],
   "source": [
    "print(56271 - 5627)\n",
    "print(42154 - 4215)"
   ]
  },
  {
   "cell_type": "code",
   "execution_count": 56,
   "id": "048f5ad4",
   "metadata": {},
   "outputs": [],
   "source": [
    "ids_m = subset_m['PRACTICE_PATIENT_ID'].unique()\n",
    "ids_f = subset_f['PRACTICE_PATIENT_ID'].unique()"
   ]
  },
  {
   "cell_type": "code",
   "execution_count": 57,
   "id": "a1877e5f",
   "metadata": {},
   "outputs": [],
   "source": [
    "np.random.shuffle(ids_m)\n",
    "np.random.shuffle(ids_f)\n",
    "training_m, test_m = ids_m[:50644], ids_m[50644:]\n",
    "training_f, test_f = ids_f[:37939], ids_f[37939:]"
   ]
  },
  {
   "cell_type": "code",
   "execution_count": 58,
   "id": "d2fd798b",
   "metadata": {},
   "outputs": [],
   "source": [
    "train_df_m = subset_m[subset_m['PRACTICE_PATIENT_ID'].isin(training_m)]\n",
    "test_df_m = subset_m[subset_m['PRACTICE_PATIENT_ID'].isin(test_m)]\n",
    "\n",
    "train_df_f = subset_f[subset_f['PRACTICE_PATIENT_ID'].isin(training_f)]\n",
    "test_df_f = subset_f[subset_f['PRACTICE_PATIENT_ID'].isin(test_f)]"
   ]
  },
  {
   "cell_type": "code",
   "execution_count": 59,
   "id": "2661d693",
   "metadata": {},
   "outputs": [],
   "source": [
    "train_df_m.to_csv(\"../data/train_m.csv\", index=False)\n",
    "test_df_m.to_csv(\"../data/test_m.csv\", index=False)\n",
    "\n",
    "train_df_f.to_csv(\"../data/train_f.csv\", index=False)\n",
    "test_df_f.to_csv(\"../data/test_f.csv\", index=False)"
   ]
  },
  {
   "cell_type": "code",
   "execution_count": 60,
   "id": "c932af7c",
   "metadata": {},
   "outputs": [
    {
     "data": {
      "text/plain": [
       "216"
      ]
     },
     "execution_count": 60,
     "metadata": {},
     "output_type": "execute_result"
    }
   ],
   "source": [
    "np.max(subset['ACTION'])"
   ]
  },
  {
   "cell_type": "code",
   "execution_count": 32,
   "id": "fa958b43",
   "metadata": {},
   "outputs": [
    {
     "data": {
      "text/plain": [
       "Index(['PRACTICE_PATIENT_ID', 'SEX', 'AGE', 'EGFR', 'SYSTOLIC_BLOOD_PRESSURE',\n",
       "       'HBA1C', 'SERUM_CHOLESTEROL', 'HIGH_DENSITY_LIPOPROTEIN',\n",
       "       'LOW_DENSITY_LIPOPROTEIN', 'TRIGLYCERIDES', 'BMI', 'INSULIN',\n",
       "       'THIAZOLIDINEDIONE', 'SULPHONYLUREAS', 'MEGLITINIDES', 'METFORMIN',\n",
       "       'GLP1', 'ACARBOSE', 'DPP4I', 'SGLT2', 'ACTION_DESC', 'ACTION',\n",
       "       'MEDICATION', 'REWARD_SYSTOLIC', 'REWARD_HBA1C', 'REWARD_BMI',\n",
       "       'REWARD_A1C_BP', 'REWARD_ALL', 'RTG_ALL', 'RTG_A1C_BP', 'RTG_A1C',\n",
       "       'RTG_BMI'],\n",
       "      dtype='object')"
      ]
     },
     "execution_count": 32,
     "metadata": {},
     "output_type": "execute_result"
    }
   ],
   "source": [
    "train_df_m.columns"
   ]
  },
  {
   "cell_type": "code",
   "execution_count": null,
   "id": "8e0a10db",
   "metadata": {},
   "outputs": [],
   "source": [
    "print(subset['AGE'].min(), subset['AGE'].max())"
   ]
  },
  {
   "cell_type": "code",
   "execution_count": null,
   "id": "8b94ef6f",
   "metadata": {},
   "outputs": [],
   "source": [
    "subset['ACTION_DESC'].unique()"
   ]
  },
  {
   "cell_type": "code",
   "execution_count": 12,
   "id": "8a5bbdd4",
   "metadata": {},
   "outputs": [],
   "source": [
    "data = pd.read_csv(\"../data/train_f.csv\")"
   ]
  },
  {
   "cell_type": "code",
   "execution_count": 13,
   "id": "2e901093",
   "metadata": {},
   "outputs": [],
   "source": [
    "df = data.groupby('PRACTICE_PATIENT_ID').size().to_frame().reset_index()"
   ]
  },
  {
   "cell_type": "code",
   "execution_count": 14,
   "id": "5a6a1ca5",
   "metadata": {},
   "outputs": [],
   "source": [
    "selected = df[(df[0] >= 3) & (df[0] <= 40)]['PRACTICE_PATIENT_ID'].values"
   ]
  },
  {
   "cell_type": "code",
   "execution_count": 17,
   "id": "f153d466",
   "metadata": {},
   "outputs": [],
   "source": [
    "data = data[data['PRACTICE_PATIENT_ID'].isin(selected)]"
   ]
  },
  {
   "cell_type": "code",
   "execution_count": 18,
   "id": "b6ce1b70",
   "metadata": {},
   "outputs": [
    {
     "data": {
      "text/plain": [
       "30348"
      ]
     },
     "execution_count": 18,
     "metadata": {},
     "output_type": "execute_result"
    }
   ],
   "source": [
    "len(data['PRACTICE_PATIENT_ID'].unique())"
   ]
  },
  {
   "cell_type": "code",
   "execution_count": null,
   "id": "a51055ff",
   "metadata": {},
   "outputs": [],
   "source": []
  }
 ],
 "metadata": {
  "kernelspec": {
   "display_name": "Python 3 (ipykernel)",
   "language": "python",
   "name": "python3"
  },
  "language_info": {
   "codemirror_mode": {
    "name": "ipython",
    "version": 3
   },
   "file_extension": ".py",
   "mimetype": "text/x-python",
   "name": "python",
   "nbconvert_exporter": "python",
   "pygments_lexer": "ipython3",
   "version": "3.9.12"
  }
 },
 "nbformat": 4,
 "nbformat_minor": 5
}
